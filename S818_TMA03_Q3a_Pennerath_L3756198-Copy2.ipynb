{
 "cells": [
  {
   "cell_type": "markdown",
   "metadata": {},
   "source": [
    "# The Open University / Space Science course S818 / TMA03 Question n°3\n",
    "Student : Madeline Pennerath / L3756198\n",
    "\n",
    "This Jupyter notebook produces a graph of integrated proton flux above 10MeV as a function of time and for a month to show if a Solar Radiation Storm event occurred. The calculations use data from a GOES satellite that are taken from the National Oceanic and Atmospheric Administration's (NOAA) website (see links below)."
   ]
  },
  {
   "cell_type": "code",
   "execution_count": 1,
   "metadata": {},
   "outputs": [],
   "source": [
    "# this code conceals irrelevant warning messages\n",
    "import warnings\n",
    "warnings.simplefilter('ignore', FutureWarning)"
   ]
  },
  {
   "cell_type": "code",
   "execution_count": 2,
   "metadata": {},
   "outputs": [],
   "source": [
    "# routines:\n",
    "from pandas import *\n",
    "from numpy import  *\n",
    "%matplotlib inline"
   ]
  },
  {
   "cell_type": "code",
   "execution_count": 17,
   "metadata": {},
   "outputs": [],
   "source": [
    "df = read_csv ('alerts.csv')"
   ]
  },
  {
   "cell_type": "code",
   "execution_count": 4,
   "metadata": {},
   "outputs": [],
   "source": [
    "#skip the initial spaces after a comma in the columns names\n",
    "df = read_csv('alerts.csv', skipinitialspace=True)"
   ]
  },
  {
   "cell_type": "code",
   "execution_count": 6,
   "metadata": {},
   "outputs": [],
   "source": [
    "#Converting the ‘Date’ column in the dataframe into ‘datetime’ format\n",
    "df['Date'] = to_datetime(df['Date'])"
   ]
  },
  {
   "cell_type": "code",
   "execution_count": 7,
   "metadata": {},
   "outputs": [],
   "source": [
    "#Teide Observatory \n",
    "#latitude 28° 18´ 08´´ (N)\n",
    "#longitude of –16° 30´ 36´´ (W)\n",
    "# 01:00 UT on a night between May 21st and May 24th (the telescope eventually took pictures on May 29th without changing these values again)\n",
    "#local sidereal time varies between\n",
    "#15h50min30sec and 16h02h19\n",
    "#Mean value is 15h55min55sec\n",
    "hourOpt = 15\n",
    "minOpt = 55\n",
    "secOpt = 54.8"
   ]
  },
  {
   "cell_type": "code",
   "execution_count": 8,
   "metadata": {},
   "outputs": [
    {
     "data": {
      "text/plain": [
       "(3.927, 0.23998, 0.0039852)"
      ]
     },
     "execution_count": 8,
     "metadata": {},
     "output_type": "execute_result"
    }
   ],
   "source": [
    "from math import log10, floor\n",
    "def round_sig(x, sig=2):\n",
    "    return round(x, sig-int(floor(log10(abs(x))))-1)\n",
    "\n",
    "PI_OVER_12  =  pi / 12.0\n",
    "PI_OVER_12_OVER_60 = pi/(12*60)\n",
    "PI_OVER_12_OVER_60_OVER_60 = pi/(12*60*60)\n",
    "\n",
    "def hoursToRadians ( hours ):\n",
    "    \"\"\"Convert hours (15 degrees) to radians.\n",
    "    \"\"\"\n",
    "    return  hours * PI_OVER_12\n",
    "\n",
    "def minutesToRadians ( minutes ):\n",
    "    \"\"\"Convert minutes (1/60 hour) to radians.\n",
    "    \"\"\"\n",
    "    return  minOpt * PI_OVER_12_OVER_60\n",
    "\n",
    "def secondsToRadians ( seconds ):\n",
    "    \"\"\"Convert seconds (1/60 minute) to radians.\n",
    "    \"\"\"\n",
    "    return  secOpt * PI_OVER_12_OVER_60_OVER_60\n",
    "\n",
    "hourOpt = round_sig(hoursToRadians(hourOpt),4)\n",
    "#hourOpt = hoursToRadians(hourOpt)\n",
    "minOpt = round_sig(minutesToRadians(minOpt),5)\n",
    "secOpt = round_sig(secondsToRadians(secOpt),5)"
   ]
  },
  {
   "cell_type": "code",
   "execution_count": 9,
   "metadata": {},
   "outputs": [
    {
     "data": {
      "text/plain": [
       "(4.1709651999999995, 0.4886921905584123)"
      ]
     },
     "execution_count": 9,
     "metadata": {},
     "output_type": "execute_result"
    }
   ],
   "source": [
    "RA2 = (hourOpt + minOpt + secOpt)\n",
    "#df['RaDeg'].head()\n",
    "Dec2 = np.deg2rad(28) #rad"
   ]
  },
  {
   "cell_type": "code",
   "execution_count": 11,
   "metadata": {
    "scrolled": true
   },
   "outputs": [
    {
     "data": {
      "text/plain": [
       "0    274.56022\n",
       "1    140.88042\n",
       "2    308.74244\n",
       "3    156.13568\n",
       "4    145.26636\n",
       "Name: RaDeg, dtype: float64"
      ]
     },
     "execution_count": 11,
     "metadata": {},
     "output_type": "execute_result"
    }
   ],
   "source": [
    "#df['RaDeg'] = np.deg2rad(df['RaDeg'])\n",
    "#df['DecDeg'] = np.deg2rad(df['DecDeg'])\n",
    "df['RaDeg'].head()\n",
    "#enlever Deg dans les noms\n",
    "#arrondir a cb ?"
   ]
  },
  {
   "cell_type": "code",
   "execution_count": 12,
   "metadata": {},
   "outputs": [],
   "source": [
    "# cos (A) = sin (Dec1) sin (Dec2) + cos (Dec1) cos (Dec2) cos (RA1 – RA2)\n",
    "# (RA2, Dec2) is the optimum sky"
   ]
  },
  {
   "cell_type": "code",
   "execution_count": 13,
   "metadata": {
    "scrolled": false
   },
   "outputs": [
    {
     "data": {
      "text/plain": [
       "0    98.805792\n",
       "1    77.446525\n",
       "2    99.926873\n",
       "3    75.530088\n",
       "4    77.261290\n",
       "Name: Offset, dtype: float64"
      ]
     },
     "execution_count": 13,
     "metadata": {},
     "output_type": "execute_result"
    }
   ],
   "source": [
    "RaColumn = df['RaDeg']\n",
    "DecColumn = df['DecDeg']\n",
    "cosAColumn = sin(np.deg2rad(DecColumn))*sin(Dec2)+cos(np.deg2rad(DecColumn))*cos(Dec2)*cos(np.deg2rad(RaColumn)-RA2)\n",
    "\n",
    "Acolumn = (np.arccos(cosAColumn))*(180/pi)\n",
    "df['Offset'] = Acolumn\n",
    "df['Offset'].head()\n",
    "\n"
   ]
  },
  {
   "cell_type": "code",
   "execution_count": 14,
   "metadata": {
    "scrolled": false
   },
   "outputs": [],
   "source": [
    "dates = df['Date']\n",
    "mag = df['AlertMag']\n",
    "histmag = df['HistoricMag']\n",
    "Class = df['Class']\n",
    "start = datetime(2020, 4,24)\n",
    "end = datetime(2020, 5, 26)\n"
   ]
  },
  {
   "cell_type": "code",
   "execution_count": 15,
   "metadata": {},
   "outputs": [
    {
     "data": {
      "text/plain": [
       "#Name                     object\n",
       "Date              datetime64[ns]\n",
       "RaDeg                    float64\n",
       "DecDeg                   float64\n",
       "AlertMag                 float64\n",
       "HistoricMag              float64\n",
       "HistoricStdDev           float64\n",
       "Class                     object\n",
       "Published                 object\n",
       "Comment                   object\n",
       "TNSid                     object\n",
       "Offset                   float64\n",
       "dtype: object"
      ]
     },
     "execution_count": 15,
     "metadata": {},
     "output_type": "execute_result"
    }
   ],
   "source": [
    "df.dtypes"
   ]
  },
  {
   "cell_type": "code",
   "execution_count": 16,
   "metadata": {
    "scrolled": false
   },
   "outputs": [
    {
     "data": {
      "text/html": [
       "<div>\n",
       "<style scoped>\n",
       "    .dataframe tbody tr th:only-of-type {\n",
       "        vertical-align: middle;\n",
       "    }\n",
       "\n",
       "    .dataframe tbody tr th {\n",
       "        vertical-align: top;\n",
       "    }\n",
       "\n",
       "    .dataframe thead th {\n",
       "        text-align: right;\n",
       "    }\n",
       "</style>\n",
       "<table border=\"1\" class=\"dataframe\">\n",
       "  <thead>\n",
       "    <tr style=\"text-align: right;\">\n",
       "      <th></th>\n",
       "      <th>#Name</th>\n",
       "      <th>Date</th>\n",
       "      <th>RaDeg</th>\n",
       "      <th>DecDeg</th>\n",
       "      <th>AlertMag</th>\n",
       "      <th>HistoricMag</th>\n",
       "      <th>HistoricStdDev</th>\n",
       "      <th>Class</th>\n",
       "      <th>Published</th>\n",
       "      <th>Comment</th>\n",
       "      <th>TNSid</th>\n",
       "      <th>Offset</th>\n",
       "    </tr>\n",
       "  </thead>\n",
       "  <tbody>\n",
       "    <tr>\n",
       "      <td>213</td>\n",
       "      <td>Gaia20cag</td>\n",
       "      <td>2020-04-27 16:43:06</td>\n",
       "      <td>246.25733</td>\n",
       "      <td>39.15731</td>\n",
       "      <td>13.54</td>\n",
       "      <td>16.51</td>\n",
       "      <td>1.52</td>\n",
       "      <td>CV</td>\n",
       "      <td>2020-04-29 10:27:46</td>\n",
       "      <td>known CV V844 Her in 4 mag outburst</td>\n",
       "      <td>AT2020ilw</td>\n",
       "      <td>12.687488</td>\n",
       "    </tr>\n",
       "    <tr>\n",
       "      <td>101</td>\n",
       "      <td>Gaia20ceo</td>\n",
       "      <td>2020-05-08 08:53:43</td>\n",
       "      <td>205.54987</td>\n",
       "      <td>60.25699</td>\n",
       "      <td>17.65</td>\n",
       "      <td>17.97</td>\n",
       "      <td>0.08</td>\n",
       "      <td>QSO</td>\n",
       "      <td>2020-05-10 11:40:33</td>\n",
       "      <td>~0.3 mag rise in known QSO</td>\n",
       "      <td>AT2020jkn</td>\n",
       "      <td>39.358046</td>\n",
       "    </tr>\n",
       "  </tbody>\n",
       "</table>\n",
       "</div>"
      ],
      "text/plain": [
       "         #Name                Date      RaDeg    DecDeg  AlertMag  \\\n",
       "213  Gaia20cag 2020-04-27 16:43:06  246.25733  39.15731     13.54   \n",
       "101  Gaia20ceo 2020-05-08 08:53:43  205.54987  60.25699     17.65   \n",
       "\n",
       "     HistoricMag  HistoricStdDev Class            Published  \\\n",
       "213        16.51            1.52    CV  2020-04-29 10:27:46   \n",
       "101        17.97            0.08   QSO  2020-05-10 11:40:33   \n",
       "\n",
       "                                 Comment      TNSid     Offset  \n",
       "213  known CV V844 Her in 4 mag outburst  AT2020ilw  12.687488  \n",
       "101           ~0.3 mag rise in known QSO  AT2020jkn  39.358046  "
      ]
     },
     "execution_count": 16,
     "metadata": {},
     "output_type": "execute_result"
    }
   ],
   "source": [
    "df = df[(dates >= start) & (Class != \"unknown\") & (mag <= 18) & (histmag <= 18) & (Acolumn >= -60) & (Acolumn <= 60)]\n",
    "df.sort_values(\"Offset\", inplace = True)#, axis = 0, ascending = True, inplace = True)\n",
    "df"
   ]
  }
 ],
 "metadata": {
  "kernelspec": {
   "display_name": "Python 3",
   "language": "python",
   "name": "python3"
  },
  "language_info": {
   "codemirror_mode": {
    "name": "ipython",
    "version": 3
   },
   "file_extension": ".py",
   "mimetype": "text/x-python",
   "name": "python",
   "nbconvert_exporter": "python",
   "pygments_lexer": "ipython3",
   "version": "3.7.4"
  }
 },
 "nbformat": 4,
 "nbformat_minor": 2
}
