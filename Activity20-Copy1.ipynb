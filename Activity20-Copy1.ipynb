{
 "cells": [
  {
   "cell_type": "markdown",
   "metadata": {},
   "source": [
    "### Finding the true anomaly at a given time\n",
    "This notebook describes how to find the true anomaly of a small body on an orbit around the Earth at a given time after perigee passage. The procedure shown here finds a solution to Kepler's equation by Newton's method. This illustrates how a numerical solution can be found to an equation that has no analytic solution.\n",
    "References are made to the book *Spacecraft Systems Engineering (4th Edition)* by Fortescue, Swinerd and Stark, (hereafter SSE).\n",
    "We begin by importing the packages that we will need."
   ]
  },
  {
   "cell_type": "code",
   "execution_count": 1,
   "metadata": {},
   "outputs": [],
   "source": [
    "from math import * # Note, in passing, that math includes the value of pi"
   ]
  },
  {
   "cell_type": "markdown",
   "metadata": {},
   "source": [
    "We now need to define the parameters required for the calculation. Some of these are physical parameters relating to the orbit, but we also need a parameter (tol - for 'tolerance') that determines the accuracy required for the numerical solution for the eccentric anomaly."
   ]
  },
  {
   "cell_type": "code",
   "execution_count": 3,
   "metadata": {},
   "outputs": [],
   "source": [
    "# Physical parameters\n",
    "mu = 3.986E+14 # Value for Earth in units of m^3 s^-2\",\n",
    "a = 2.0E+07    # Semi-major axis of orbit in m\",\n",
    "e = 0.50       # Eccentricity of orbit\",\n",
    "# Numerical parameter\",\n",
    "tol = 1.0E-05  # Newton's method stops when successive solutions differ by less than this amount"
   ]
  },
  {
   "cell_type": "markdown",
   "metadata": {},
   "source": [
    "We can now calculate the orbital period (tau) and mean motion (n)"
   ]
  },
  {
   "cell_type": "code",
   "execution_count": 4,
   "metadata": {},
   "outputs": [
    {
     "data": {
      "text/plain": [
       "(0.00022321514285549715, 28148.56208589367)"
      ]
     },
     "execution_count": 4,
     "metadata": {},
     "output_type": "execute_result"
    }
   ],
   "source": [
    "n = sqrt(mu/(pow(a,3)))\n",
    "tau = 2.*pi/n\n",
    "n, tau"
   ]
  },
  {
   "cell_type": "markdown",
   "metadata": {},
   "source": [
    "Note that these quantities are expressed in SI units (n in s^-1 and tau in s)\n",
    "We are attempting to calculate the true anomaly at one given time, which we will call t1. Remember that time t=0 is the time of perigee."
   ]
  },
  {
   "cell_type": "code",
   "execution_count": 5,
   "metadata": {},
   "outputs": [],
   "source": [
    "t1 = 2751.6 # Time in s"
   ]
  },
  {
   "cell_type": "markdown",
   "metadata": {},
   "source": [
    "Now we calculate the mean anomaly M\""
   ]
  },
  {
   "cell_type": "code",
   "execution_count": 6,
   "metadata": {},
   "outputs": [
    {
     "data": {
      "text/plain": [
       "0.6141987870811859"
      ]
     },
     "execution_count": 6,
     "metadata": {},
     "output_type": "execute_result"
    }
   ],
   "source": [
    "M = n*t1\n",
    "M"
   ]
  },
  {
   "cell_type": "markdown",
   "metadata": {},
   "source": [
    "The heart of the calculation is the expression that is used iteratively to obtain estimates of the eccentric anomaly *E* (SSE Eqn 4.20). Because we will be repeatedly evaluating this expression, it is useful to define a function that returns the value of this expression. We call the function Enewton to remind ourselves of the method that is being applied."
   ]
  },
  {
   "cell_type": "code",
   "execution_count": 7,
   "metadata": {},
   "outputs": [],
   "source": [
    "def Enewton(Eold,M,e):\n",
    "    return (Eold-((Eold-e*sin(Eold)-M))/(1.-e*cos(Eold)))"
   ]
  },
  {
   "cell_type": "markdown",
   "metadata": {},
   "source": [
    "We start the numerical solution by setting the first value of *E* (called Ei) to *M* and then evaluating the next value."
   ]
  },
  {
   "cell_type": "code",
   "execution_count": 8,
   "metadata": {},
   "outputs": [
    {
     "name": "stdout",
     "output_type": "stream",
     "text": [
      "0.6141987870811859 1.10145039465642 0.4872516075752341\n"
     ]
    }
   ],
   "source": [
    "Ei = M\n",
    "Enext = Enewton(Ei,M,e)\n",
    "diff=fabs(Enext-Ei)\n",
    "print(Ei,Enext,diff)"
   ]
  },
  {
   "cell_type": "markdown",
   "metadata": {},
   "source": [
    "Note that we have also calcuated the difference between our starting value, where we set the eccentric anomaly to M, and the value obtained after the first iteration. We need to test whether the difference exceeds the tolerance we specified, and until it does, we iterate until succesive solutions differ by less than this amount.\n",
    "\n",
    "We do this using a **while** loop in Python. As the program loops through, we print out input and output values of E and the difference between them."
   ]
  },
  {
   "cell_type": "code",
   "execution_count": 9,
   "metadata": {},
   "outputs": [
    {
     "name": "stdout",
     "output_type": "stream",
     "text": [
      "1.10145039465642 1.0480556400089003 0.05339475464751975\n",
      "1.0480556400089003 1.047216338215682 0.0008393017932182278\n",
      "1.047216338215682 1.0472161347993252 2.034163568698233e-07\n"
     ]
    },
    {
     "data": {
      "text/plain": [
       "1.0472161347993252"
      ]
     },
     "execution_count": 9,
     "metadata": {},
     "output_type": "execute_result"
    }
   ],
   "source": [
    "while (diff>tol):\n",
    "    Ei=Enext\n",
    "    Enext=Enewton(Ei,M,e)\n",
    "    diff=fabs(Enext-Ei)\n",
    "    print(Ei,Enext,diff)\n",
    "Efinal=Enext\n",
    "Efinal"
   ]
  },
  {
   "cell_type": "markdown",
   "metadata": {},
   "source": [
    "This is the value of the eccentric anomaly that we are seeking. We now need to find the true anomaly *theta*, using SSE Eqn 4.14. Looking at this equation, we have to be careful in evaluating the tan() function, since it has an undefined value when its argument is pi/2, 3pi/2 etc. In fact, because E is always in the range 0-2pi, we only need to trap the case where *E*/2=pi/2, i.e *E*=pi. From SSE Figure 4.6 you should see that if *E*=pi, then *theta*=pi."
   ]
  },
  {
   "cell_type": "code",
   "execution_count": 10,
   "metadata": {},
   "outputs": [
    {
     "data": {
      "text/plain": [
       "1.5708177851758547"
      ]
     },
     "execution_count": 10,
     "metadata": {},
     "output_type": "execute_result"
    }
   ],
   "source": [
    "if (fabs(Efinal-pi/2.)<tol):\n",
    "    theta=pi\n",
    "else:\n",
    "    theta=2.*atan((tan(Efinal/2.))*(sqrt(((1+e))/(1-e))))                  \n",
    "theta"
   ]
  },
  {
   "cell_type": "markdown",
   "metadata": {},
   "source": [
    "This result is in radians. To finish off we output this in degrees and provide the starting information."
   ]
  },
  {
   "cell_type": "code",
   "execution_count": 11,
   "metadata": {
    "scrolled": true
   },
   "outputs": [
    {
     "name": "stdout",
     "output_type": "stream",
     "text": [
      " An orbit around the Earth with a=2.0000e+07 m, e=0.500\n",
      " Has an orbital period of 28148.6 s.\n",
      " At a time 2751.6 s after perigee, the true anomaly is 90.0 degrees\n"
     ]
    }
   ],
   "source": [
    "print(' An orbit around the Earth with a={0:.4e} m, e={1:.3f}'.format(a,e))\n",
    "print(' Has an orbital period of {0:.1f} s.'.format(tau))\n",
    "print(' At a time {0:.1f} s after perigee, the true anomaly is {1:.1f} degrees'.format(t1,degrees(theta)))"
   ]
  }
 ],
 "metadata": {
  "kernelspec": {
   "display_name": "Python 3",
   "language": "python",
   "name": "python3"
  },
  "language_info": {
   "codemirror_mode": {
    "name": "ipython",
    "version": 3
   },
   "file_extension": ".py",
   "mimetype": "text/x-python",
   "name": "python",
   "nbconvert_exporter": "python",
   "pygments_lexer": "ipython3",
   "version": "3.7.4"
  }
 },
 "nbformat": 4,
 "nbformat_minor": 2
}
